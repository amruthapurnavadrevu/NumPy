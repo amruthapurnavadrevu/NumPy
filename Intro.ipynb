{
 "cells": [
  {
   "cell_type": "markdown",
   "id": "b1ba88f9",
   "metadata": {},
   "source": [
    "# Importing the module"
   ]
  },
  {
   "cell_type": "code",
   "execution_count": 1,
   "id": "0ae357a3",
   "metadata": {},
   "outputs": [],
   "source": [
    "import numpy as np"
   ]
  },
  {
   "cell_type": "markdown",
   "id": "8428195f",
   "metadata": {},
   "source": [
    "# Checking the version"
   ]
  },
  {
   "cell_type": "code",
   "execution_count": 7,
   "id": "d2df0160",
   "metadata": {},
   "outputs": [
    {
     "name": "stdout",
     "output_type": "stream",
     "text": [
      "1.24.3\n"
     ]
    }
   ],
   "source": [
    "print(np.__version__)"
   ]
  },
  {
   "cell_type": "markdown",
   "id": "91ab7d1d",
   "metadata": {},
   "source": [
    "# Creating an array"
   ]
  },
  {
   "cell_type": "code",
   "execution_count": 5,
   "id": "3c81a224",
   "metadata": {},
   "outputs": [
    {
     "data": {
      "text/plain": [
       "array([1, 2, 3])"
      ]
     },
     "execution_count": 5,
     "metadata": {},
     "output_type": "execute_result"
    }
   ],
   "source": [
    "arr = np.array([1,2,3])\n",
    "arr"
   ]
  },
  {
   "cell_type": "markdown",
   "id": "a1741bd9",
   "metadata": {},
   "source": [
    "# Finding the type"
   ]
  },
  {
   "cell_type": "code",
   "execution_count": 9,
   "id": "c91fd38c",
   "metadata": {},
   "outputs": [
    {
     "name": "stdout",
     "output_type": "stream",
     "text": [
      "<class 'numpy.ndarray'>\n"
     ]
    }
   ],
   "source": [
    "print(type(arr))"
   ]
  },
  {
   "cell_type": "markdown",
   "id": "ac8444e4",
   "metadata": {},
   "source": [
    "# 0-D array"
   ]
  },
  {
   "cell_type": "code",
   "execution_count": 21,
   "id": "84d4f4aa",
   "metadata": {},
   "outputs": [
    {
     "data": {
      "text/plain": [
       "array(56)"
      ]
     },
     "execution_count": 21,
     "metadata": {},
     "output_type": "execute_result"
    }
   ],
   "source": [
    "zerodim_array = np.array(56)\n",
    "zerodim_array"
   ]
  },
  {
   "cell_type": "markdown",
   "id": "c46a9996",
   "metadata": {},
   "source": [
    "# 1-D array"
   ]
  },
  {
   "cell_type": "code",
   "execution_count": 14,
   "id": "a6af15c3",
   "metadata": {},
   "outputs": [
    {
     "data": {
      "text/plain": [
       "array([1, 2, 3])"
      ]
     },
     "execution_count": 14,
     "metadata": {},
     "output_type": "execute_result"
    }
   ],
   "source": [
    "onedim_array = np.array([1,2,3])\n",
    "onedim_array"
   ]
  },
  {
   "cell_type": "markdown",
   "id": "5ad94e14",
   "metadata": {},
   "source": [
    "# 2-D array"
   ]
  },
  {
   "cell_type": "code",
   "execution_count": 16,
   "id": "2476735d",
   "metadata": {},
   "outputs": [
    {
     "data": {
      "text/plain": [
       "array([[1, 2, 3],\n",
       "       [4, 5, 6]])"
      ]
     },
     "execution_count": 16,
     "metadata": {},
     "output_type": "execute_result"
    }
   ],
   "source": [
    "twodim_array = np.array([[1,2,3],[4,5,6]])\n",
    "twodim_array"
   ]
  },
  {
   "cell_type": "markdown",
   "id": "85ae335e",
   "metadata": {},
   "source": [
    "# 3-D array"
   ]
  },
  {
   "cell_type": "code",
   "execution_count": 19,
   "id": "3f57fd1c",
   "metadata": {},
   "outputs": [
    {
     "data": {
      "text/plain": [
       "array([[[1, 2, 3],\n",
       "        [4, 5, 6]],\n",
       "\n",
       "       [[1, 2, 3],\n",
       "        [7, 8, 9]]])"
      ]
     },
     "execution_count": 19,
     "metadata": {},
     "output_type": "execute_result"
    }
   ],
   "source": [
    "threedim_array = np.array([[[1,2,3],[4,5,6]],[[1,2,3],[7,8,9]]])\n",
    "threedim_array"
   ]
  },
  {
   "cell_type": "markdown",
   "id": "d14272a9",
   "metadata": {},
   "source": [
    "# To find the dimensions of the array"
   ]
  },
  {
   "cell_type": "code",
   "execution_count": 25,
   "id": "feb6e8ee",
   "metadata": {},
   "outputs": [
    {
     "name": "stdout",
     "output_type": "stream",
     "text": [
      "0\n",
      "1\n",
      "2\n",
      "3\n"
     ]
    }
   ],
   "source": [
    "a = np.array(12)\n",
    "b = np.array([12,5,1996])\n",
    "c = np.array([[12,5,1996],[7,8,1994]])\n",
    "d = np.array([[[12,5],[14,7]],[[28,3],[7,8]]])\n",
    "\n",
    "print(a.ndim)\n",
    "print(b.ndim)\n",
    "print(c.ndim)\n",
    "print(d.ndim)"
   ]
  },
  {
   "cell_type": "markdown",
   "id": "5559275c",
   "metadata": {},
   "source": [
    "# Higher dimensional arrays"
   ]
  },
  {
   "cell_type": "code",
   "execution_count": 27,
   "id": "fc4e78fe",
   "metadata": {},
   "outputs": [
    {
     "name": "stdout",
     "output_type": "stream",
     "text": [
      "[[[[[[1 2 3]]]]]]\n"
     ]
    }
   ],
   "source": [
    "highdim = np.array([1,2,3],ndmin=6)\n",
    "print(highdim)"
   ]
  },
  {
   "cell_type": "code",
   "execution_count": null,
   "id": "df3fff89",
   "metadata": {},
   "outputs": [],
   "source": []
  }
 ],
 "metadata": {
  "kernelspec": {
   "display_name": "Python 3 (ipykernel)",
   "language": "python",
   "name": "python3"
  },
  "language_info": {
   "codemirror_mode": {
    "name": "ipython",
    "version": 3
   },
   "file_extension": ".py",
   "mimetype": "text/x-python",
   "name": "python",
   "nbconvert_exporter": "python",
   "pygments_lexer": "ipython3",
   "version": "3.11.4"
  }
 },
 "nbformat": 4,
 "nbformat_minor": 5
}
