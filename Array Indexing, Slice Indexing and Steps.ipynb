{
 "cells": [
  {
   "cell_type": "code",
   "execution_count": 1,
   "id": "5ad22a2a",
   "metadata": {},
   "outputs": [],
   "source": [
    "import numpy as np"
   ]
  },
  {
   "cell_type": "markdown",
   "id": "b614c423",
   "metadata": {},
   "source": [
    "# Accessing the elements"
   ]
  },
  {
   "cell_type": "markdown",
   "id": "7c9077f9",
   "metadata": {},
   "source": [
    "## 1-D arrays"
   ]
  },
  {
   "cell_type": "code",
   "execution_count": 4,
   "id": "98b923b1",
   "metadata": {},
   "outputs": [
    {
     "name": "stdout",
     "output_type": "stream",
     "text": [
      "The first element is: 1\n",
      "The last element is: 5\n"
     ]
    }
   ],
   "source": [
    "arr = np.array([1,2,3,4,5])\n",
    "\n",
    "first_element = arr[0]\n",
    "last_element = arr[-1]\n",
    "\n",
    "print(\"The first element is:\",first_element)\n",
    "print(\"The last element is:\",last_element)"
   ]
  },
  {
   "cell_type": "markdown",
   "id": "1010f770",
   "metadata": {},
   "source": [
    "### Get third and fourth elements from the following array and add them"
   ]
  },
  {
   "cell_type": "code",
   "execution_count": 5,
   "id": "3ebc0864",
   "metadata": {},
   "outputs": [
    {
     "name": "stdout",
     "output_type": "stream",
     "text": [
      "7\n"
     ]
    }
   ],
   "source": [
    "print(arr[2]+arr[3])"
   ]
  },
  {
   "cell_type": "markdown",
   "id": "87b96dc5",
   "metadata": {},
   "source": [
    "## 2-D arrays"
   ]
  },
  {
   "cell_type": "code",
   "execution_count": 6,
   "id": "0e4b0c48",
   "metadata": {},
   "outputs": [
    {
     "name": "stdout",
     "output_type": "stream",
     "text": [
      "10\n"
     ]
    }
   ],
   "source": [
    "arr2 = np.array([[1,2,3,4,5,6],[7,8,9,10,11,12]])\n",
    "\n",
    "#Accessing the element on 2nd row and 4th column\n",
    "\n",
    "print(arr2[1,3])"
   ]
  },
  {
   "cell_type": "markdown",
   "id": "8c32cf29",
   "metadata": {},
   "source": [
    "## 3-D arrays"
   ]
  },
  {
   "cell_type": "code",
   "execution_count": 9,
   "id": "d6236f95",
   "metadata": {},
   "outputs": [
    {
     "name": "stdout",
     "output_type": "stream",
     "text": [
      "12\n"
     ]
    }
   ],
   "source": [
    "arr3 = np.array([[[1,2,3],[4,5,6],[1,2,3]],[[7,8,9],[10,11,12],[7,8,9]]])\n",
    "\n",
    "#Printing third element of the second array of the second array\n",
    "print(arr3[1,1,2])"
   ]
  },
  {
   "cell_type": "markdown",
   "id": "41d77e9d",
   "metadata": {},
   "source": [
    "# Slicing the arrays"
   ]
  },
  {
   "cell_type": "code",
   "execution_count": 14,
   "id": "f3baa05c",
   "metadata": {},
   "outputs": [
    {
     "name": "stdout",
     "output_type": "stream",
     "text": [
      "Second to seventh: [2 3 4 5 6 7]\n",
      "Third to last: [3 4 5 6 7 8 9]\n",
      "First to fourth: [1 2 3]\n"
     ]
    }
   ],
   "source": [
    "slicing1 = np.array([1,2,3,4,5,6,7,8,9])\n",
    "\n",
    "#Printing elements from second to seventh element\n",
    "\n",
    "print(\"Second to seventh:\",slicing1[1:7]) #Includes element at index 1 and excludes the one at 7\n",
    "\n",
    "#Printing third to last element\n",
    "\n",
    "print(\"Third to last:\",slicing1[2:])\n",
    "\n",
    "#Printing from first to fourth element (not included)\n",
    "\n",
    "print(\"First to fourth:\",slicing1[:3])"
   ]
  },
  {
   "cell_type": "markdown",
   "id": "c494414f",
   "metadata": {},
   "source": [
    "## Negative Slicing"
   ]
  },
  {
   "cell_type": "code",
   "execution_count": 16,
   "id": "ea798afe",
   "metadata": {},
   "outputs": [
    {
     "name": "stdout",
     "output_type": "stream",
     "text": [
      "[7 8]\n"
     ]
    }
   ],
   "source": [
    "# Slice from the index 3 from the end to index 1 from the end\n",
    "\n",
    "print(slicing1[-3:-1]) #[.... index3, index2, index1]. Here, index3 is included,index1 is excluded."
   ]
  },
  {
   "cell_type": "markdown",
   "id": "990180cc",
   "metadata": {},
   "source": [
    "# Step"
   ]
  },
  {
   "cell_type": "code",
   "execution_count": 22,
   "id": "edc79f54",
   "metadata": {},
   "outputs": [
    {
     "name": "stdout",
     "output_type": "stream",
     "text": [
      "Every other element from 1 to 5: [2 4]\n",
      "Every other element: [1 3 5 7 9]\n"
     ]
    }
   ],
   "source": [
    "# Return every other element from index 1 to index 5\n",
    "\n",
    "print(\"Every other element from 1 to 5:\",slicing1[1:5:2])\n",
    "\n",
    "# Return every other element from the entire array\n",
    "\n",
    "print(\"Every other element:\",slicing1[::2])\n"
   ]
  },
  {
   "cell_type": "code",
   "execution_count": 30,
   "id": "d2d6c1c1",
   "metadata": {},
   "outputs": [
    {
     "name": "stdout",
     "output_type": "stream",
     "text": [
      "From the second element, slice elements from index 1 to index 4 (not included) [ 8  9 10]\n",
      "From both elements, return index 2 [3 9]\n",
      "From both elements, slice index 1 to index 4 (not included), this will return a 2-D array: [[ 2  3  4]\n",
      " [ 8  9 10]]\n"
     ]
    }
   ],
   "source": [
    "slicing2 = np.array([[1,2,3,4,5,6],[7,8,9,10,11,12]])\n",
    "\n",
    "print(\"From the second element, slice elements from index 1 to index 4 (not included)\",slicing2[1,1:4])\n",
    "\n",
    "print(\"From both elements, return index 2\", slicing2[0:2,2])\n",
    "\n",
    "print(\"From both elements, slice index 1 to index 4 (not included), this will return a 2-D array:\", slicing2[0:2,1:4])"
   ]
  },
  {
   "cell_type": "code",
   "execution_count": null,
   "id": "38217371",
   "metadata": {},
   "outputs": [],
   "source": []
  }
 ],
 "metadata": {
  "kernelspec": {
   "display_name": "Python 3 (ipykernel)",
   "language": "python",
   "name": "python3"
  },
  "language_info": {
   "codemirror_mode": {
    "name": "ipython",
    "version": 3
   },
   "file_extension": ".py",
   "mimetype": "text/x-python",
   "name": "python",
   "nbconvert_exporter": "python",
   "pygments_lexer": "ipython3",
   "version": "3.11.4"
  }
 },
 "nbformat": 4,
 "nbformat_minor": 5
}
